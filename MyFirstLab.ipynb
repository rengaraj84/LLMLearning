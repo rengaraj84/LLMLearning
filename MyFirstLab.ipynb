{
 "cells": [
  {
   "cell_type": "code",
   "execution_count": 4,
   "id": "7317fd21-a042-4d6a-9da0-1c27ac46d346",
   "metadata": {},
   "outputs": [
    {
     "name": "stdout",
     "output_type": "stream",
     "text": [
      "Requirement already satisfied: textblob in c:\\users\\admin\\anaconda3\\lib\\site-packages (0.19.0)\n",
      "Requirement already satisfied: nltk>=3.9 in c:\\users\\admin\\anaconda3\\lib\\site-packages (from textblob) (3.9.1)\n",
      "Requirement already satisfied: click in c:\\users\\admin\\anaconda3\\lib\\site-packages (from nltk>=3.9->textblob) (8.2.1)\n",
      "Requirement already satisfied: joblib in c:\\users\\admin\\anaconda3\\lib\\site-packages (from nltk>=3.9->textblob) (1.5.2)\n",
      "Requirement already satisfied: regex>=2021.8.3 in c:\\users\\admin\\anaconda3\\lib\\site-packages (from nltk>=3.9->textblob) (2024.11.6)\n",
      "Requirement already satisfied: tqdm in c:\\users\\admin\\anaconda3\\lib\\site-packages (from nltk>=3.9->textblob) (4.67.1)\n",
      "Requirement already satisfied: colorama in c:\\users\\admin\\anaconda3\\lib\\site-packages (from click->nltk>=3.9->textblob) (0.4.6)\n",
      "Detailed Sentiment Data:\n",
      "  Application_ID               Question  Response Sentiment\n",
      "0           A001           How are you?      Good  positive\n",
      "1           A001  Do you like the food?        No   neutral\n",
      "2           A002           How are you?      Good  positive\n",
      "3           A002  Do you like the food?  Very Bad  negative\n",
      "\n",
      "Sentiment Summary by Application:\n",
      "Sentiment       negative  neutral  positive\n",
      "Application_ID                             \n",
      "A001                   0        1         1\n",
      "A002                   1        0         1\n"
     ]
    }
   ],
   "source": [
    "!pip install textblob\n",
    "\n",
    "import pandas as pd\n",
    "from textblob import TextBlob\n",
    "\n",
    "\n",
    "\n",
    "# Load your data\n",
    "df = pd.read_csv(\"D:\\Rengaraj\\Learning\\Python\\CustomerResponse.csv\")\n",
    "\n",
    "\n",
    "# Function to get sentiment\n",
    "def get_sentiment(text):\n",
    "    if not text or pd.isna(text):\n",
    "        return \"neutral\"\n",
    "    polarity = TextBlob(text).sentiment.polarity\n",
    "    if polarity > 0.1:\n",
    "        return \"positive\"\n",
    "    elif polarity < -0.1:\n",
    "        return \"negative\"\n",
    "    else:\n",
    "        return \"neutral\"\n",
    "\n",
    "# Apply sentiment analysis\n",
    "df[\"Sentiment\"] = df[\"Response\"].apply(get_sentiment)\n",
    "\n",
    "# Group by application if needed\n",
    "sentiment_summary = (\n",
    "    df.groupby(\"Application_ID\")[\"Sentiment\"]\n",
    "    .value_counts()\n",
    "    .unstack(fill_value=0)\n",
    ")\n",
    "\n",
    "print(\"Detailed Sentiment Data:\")\n",
    "print(df)\n",
    "\n",
    "print(\"\\nSentiment Summary by Application:\")\n",
    "print(sentiment_summary)"
   ]
  },
  {
   "cell_type": "code",
   "execution_count": null,
   "id": "46595541-5e7b-4d5c-92ae-355b2b062e3d",
   "metadata": {},
   "outputs": [],
   "source": []
  },
  {
   "cell_type": "code",
   "execution_count": null,
   "id": "ac389f2d-1515-4dad-a5b7-f618cf88a94e",
   "metadata": {},
   "outputs": [],
   "source": []
  },
  {
   "cell_type": "code",
   "execution_count": null,
   "id": "b71bfd51-51b7-4526-9f7f-0ae3cf3002c4",
   "metadata": {},
   "outputs": [],
   "source": []
  }
 ],
 "metadata": {
  "kernelspec": {
   "display_name": "Python [conda env:base] *",
   "language": "python",
   "name": "conda-base-py"
  },
  "language_info": {
   "codemirror_mode": {
    "name": "ipython",
    "version": 3
   },
   "file_extension": ".py",
   "mimetype": "text/x-python",
   "name": "python",
   "nbconvert_exporter": "python",
   "pygments_lexer": "ipython3",
   "version": "3.13.5"
  }
 },
 "nbformat": 4,
 "nbformat_minor": 5
}
